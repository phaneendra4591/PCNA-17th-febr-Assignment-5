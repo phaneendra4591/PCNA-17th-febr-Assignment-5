{
 "nbformat": 4,
 "nbformat_minor": 2,
 "metadata": {
  "language_info": {
   "name": "python",
   "codemirror_mode": {
    "name": "ipython",
    "version": 3
   },
   "version": "3.7.4-final"
  },
  "orig_nbformat": 2,
  "file_extension": ".py",
  "mimetype": "text/x-python",
  "name": "python",
  "npconvert_exporter": "python",
  "pygments_lexer": "ipython3",
  "version": 3,
  "kernelspec": {
   "name": "python37464bitbaseconda9ff3495e5c1149c0af3889d99aeccb43",
   "display_name": "Python 3.7.4 64-bit ('base': conda)"
  }
 },
 "cells": [
  {
   "cell_type": "code",
   "execution_count": 1,
   "metadata": {},
   "outputs": [],
   "source": [
    "import networkx as nx"
   ]
  },
  {
   "cell_type": "code",
   "execution_count": 14,
   "metadata": {},
   "outputs": [],
   "source": [
    "#UnDirected Graph"
   ]
  },
  {
   "cell_type": "code",
   "execution_count": 94,
   "metadata": {},
   "outputs": [],
   "source": [
    "G=nx.karate_club_graph()"
   ]
  },
  {
   "cell_type": "code",
   "execution_count": 95,
   "metadata": {},
   "outputs": [
    {
     "data": {
      "text/plain": "False"
     },
     "execution_count": 95,
     "metadata": {},
     "output_type": "execute_result"
    }
   ],
   "source": [
    "G.is_directed()"
   ]
  },
  {
   "cell_type": "code",
   "execution_count": 96,
   "metadata": {},
   "outputs": [],
   "source": [
    "DC=nx.degree_centrality(G)"
   ]
  },
  {
   "cell_type": "code",
   "execution_count": 97,
   "metadata": {},
   "outputs": [
    {
     "name": "stdout",
     "output_type": "stream",
     "text": "0.48484848484848486\n0.2727272727272727\n0.30303030303030304\n0.18181818181818182\n0.09090909090909091\n0.12121212121212122\n0.12121212121212122\n0.12121212121212122\n0.15151515151515152\n0.06060606060606061\n0.09090909090909091\n0.030303030303030304\n0.06060606060606061\n0.15151515151515152\n0.06060606060606061\n0.06060606060606061\n0.06060606060606061\n0.06060606060606061\n0.06060606060606061\n0.09090909090909091\n0.06060606060606061\n0.06060606060606061\n0.06060606060606061\n0.15151515151515152\n0.09090909090909091\n0.09090909090909091\n0.06060606060606061\n0.12121212121212122\n0.09090909090909091\n0.12121212121212122\n0.12121212121212122\n0.18181818181818182\n0.36363636363636365\n0.5151515151515151\n"
    }
   ],
   "source": [
    "for i in DC:\n",
    "    print(DC[i])"
   ]
  },
  {
   "cell_type": "code",
   "execution_count": 98,
   "metadata": {},
   "outputs": [
    {
     "name": "stdout",
     "output_type": "stream",
     "text": "0.5689655172413793\n0.4852941176470588\n0.559322033898305\n0.4647887323943662\n0.3793103448275862\n0.38372093023255816\n0.38372093023255816\n0.44\n0.515625\n0.4342105263157895\n0.3793103448275862\n0.36666666666666664\n0.3707865168539326\n0.515625\n0.3707865168539326\n0.3707865168539326\n0.28448275862068967\n0.375\n0.3707865168539326\n0.5\n0.3707865168539326\n0.375\n0.3707865168539326\n0.39285714285714285\n0.375\n0.375\n0.3626373626373626\n0.4583333333333333\n0.4520547945205479\n0.38372093023255816\n0.4583333333333333\n0.5409836065573771\n0.515625\n0.55\n"
    }
   ],
   "source": [
    "CC=nx.closeness_centrality(G)\n",
    "for i in CC:\n",
    "    print(CC[i])"
   ]
  },
  {
   "cell_type": "code",
   "execution_count": 99,
   "metadata": {},
   "outputs": [],
   "source": [
    "BC=nx.betweenness_centrality(G)"
   ]
  },
  {
   "cell_type": "code",
   "execution_count": 100,
   "metadata": {},
   "outputs": [
    {
     "name": "stdout",
     "output_type": "stream",
     "text": "0.43763528138528146\n0.053936688311688304\n0.14365680615680618\n0.011909271284271283\n0.0006313131313131313\n0.02998737373737374\n0.029987373737373736\n0.0\n0.05592682780182781\n0.0008477633477633478\n0.0006313131313131313\n0.0\n0.0\n0.04586339586339586\n0.0\n0.0\n0.0\n0.0\n0.0\n0.03247504810004811\n0.0\n0.0\n0.0\n0.017613636363636363\n0.0022095959595959595\n0.0038404882154882154\n0.0\n0.02233345358345358\n0.0017947330447330447\n0.0029220779220779218\n0.014411976911976909\n0.13827561327561325\n0.145247113997114\n0.30407497594997596\n"
    }
   ],
   "source": [
    "for i in BC:\n",
    "    print(BC[i])"
   ]
  },
  {
   "cell_type": "code",
   "execution_count": 101,
   "metadata": {},
   "outputs": [],
   "source": [
    "##Verification for all nodes for Degree Centrality"
   ]
  },
  {
   "cell_type": "code",
   "execution_count": 102,
   "metadata": {},
   "outputs": [],
   "source": [
    "VDC={}\n",
    "for i in range(0,len(G.nodes())):\n",
    "    VDC[i]=(G.degree(i)/(len(G.nodes())-1))"
   ]
  },
  {
   "cell_type": "code",
   "execution_count": 103,
   "metadata": {},
   "outputs": [
    {
     "data": {
      "text/plain": "True"
     },
     "execution_count": 103,
     "metadata": {},
     "output_type": "execute_result"
    }
   ],
   "source": [
    "VDC==DC"
   ]
  },
  {
   "cell_type": "code",
   "execution_count": 104,
   "metadata": {},
   "outputs": [],
   "source": [
    "#Verification for Closeness Centrality"
   ]
  },
  {
   "cell_type": "code",
   "execution_count": 105,
   "metadata": {},
   "outputs": [
    {
     "data": {
      "text/plain": "0.5689655172413793"
     },
     "execution_count": 105,
     "metadata": {},
     "output_type": "execute_result"
    }
   ],
   "source": [
    "CC[0]"
   ]
  },
  {
   "cell_type": "code",
   "execution_count": 106,
   "metadata": {},
   "outputs": [
    {
     "data": {
      "text/plain": "0.5689655172413793"
     },
     "execution_count": 106,
     "metadata": {},
     "output_type": "execute_result"
    }
   ],
   "source": [
    "(len(G.nodes())-1)/sum(nx.shortest_path_length(G,0).values())"
   ]
  },
  {
   "cell_type": "code",
   "execution_count": 107,
   "metadata": {},
   "outputs": [],
   "source": [
    "VCC={}\n",
    "for i in range(0,len(G.nodes())):\n",
    "    VCC[i]=(len(G.nodes())-1)/sum(nx.shortest_path_length(G,i).values())"
   ]
  },
  {
   "cell_type": "code",
   "execution_count": 108,
   "metadata": {},
   "outputs": [
    {
     "data": {
      "text/plain": "True"
     },
     "execution_count": 108,
     "metadata": {},
     "output_type": "execute_result"
    }
   ],
   "source": [
    "VCC==CC"
   ]
  },
  {
   "cell_type": "code",
   "execution_count": 24,
   "metadata": {},
   "outputs": [],
   "source": [
    "#Directed Graph"
   ]
  },
  {
   "cell_type": "code",
   "execution_count": 111,
   "metadata": {},
   "outputs": [],
   "source": [
    "G=nx.DiGraph()"
   ]
  },
  {
   "cell_type": "code",
   "execution_count": 112,
   "metadata": {},
   "outputs": [],
   "source": [
    "G.add_nodes_from([1,2,3,4,5,6,7,8,9,10])"
   ]
  },
  {
   "cell_type": "code",
   "execution_count": 113,
   "metadata": {},
   "outputs": [],
   "source": [
    "for i in range(1,9):\n",
    "    G.add_edge(i,i+1)"
   ]
  },
  {
   "cell_type": "code",
   "execution_count": 114,
   "metadata": {},
   "outputs": [
    {
     "data": {
      "text/plain": "True"
     },
     "execution_count": 114,
     "metadata": {},
     "output_type": "execute_result"
    }
   ],
   "source": [
    "G.is_directed()"
   ]
  },
  {
   "cell_type": "code",
   "execution_count": 115,
   "metadata": {},
   "outputs": [],
   "source": [
    "DC=nx.in_degree_centrality(G)\n",
    "CC=nx.closeness_centrality(G)\n",
    "BC=nx.betweenness_centrality(G)"
   ]
  },
  {
   "cell_type": "code",
   "execution_count": 116,
   "metadata": {},
   "outputs": [
    {
     "name": "stdout",
     "output_type": "stream",
     "text": "0.0\n0.1111111111111111\n0.1111111111111111\n0.1111111111111111\n0.1111111111111111\n0.1111111111111111\n0.1111111111111111\n0.1111111111111111\n0.1111111111111111\n0.0\n"
    }
   ],
   "source": [
    "for i in DC:\n",
    "    print(DC[i])"
   ]
  },
  {
   "cell_type": "code",
   "execution_count": 138,
   "metadata": {},
   "outputs": [
    {
     "name": "stdout",
     "output_type": "stream",
     "text": "0.19753086419753085\n0.19444444444444445\n0.19047619047619047\n0.18518518518518517\n0.17777777777777778\n0.16666666666666666\n0.14814814814814814\n0.1111111111111111\n0.0\n0.0\n"
    }
   ],
   "source": [
    "for i in CC:\n",
    "    print(CC[i])"
   ]
  },
  {
   "cell_type": "code",
   "execution_count": 118,
   "metadata": {},
   "outputs": [
    {
     "name": "stdout",
     "output_type": "stream",
     "text": "0.0\n0.09722222222222221\n0.16666666666666666\n0.20833333333333331\n0.2222222222222222\n0.20833333333333331\n0.16666666666666666\n0.09722222222222221\n0.0\n0.0\n"
    }
   ],
   "source": [
    "for i in BC:\n",
    "    print(BC[i])"
   ]
  },
  {
   "cell_type": "code",
   "execution_count": 119,
   "metadata": {},
   "outputs": [],
   "source": [
    "## Verification of DC"
   ]
  },
  {
   "cell_type": "code",
   "execution_count": 120,
   "metadata": {},
   "outputs": [],
   "source": [
    "VDC=[]\n",
    "for i in G.nodes():\n",
    "    VDC.append(G.in_degree(i)/(len(G.nodes())-1))"
   ]
  },
  {
   "cell_type": "code",
   "execution_count": 121,
   "metadata": {},
   "outputs": [
    {
     "data": {
      "text/plain": "[0.0,\n 0.1111111111111111,\n 0.1111111111111111,\n 0.1111111111111111,\n 0.1111111111111111,\n 0.1111111111111111,\n 0.1111111111111111,\n 0.1111111111111111,\n 0.1111111111111111,\n 0.0]"
     },
     "execution_count": 121,
     "metadata": {},
     "output_type": "execute_result"
    }
   ],
   "source": [
    "VDC"
   ]
  }
 ]
}